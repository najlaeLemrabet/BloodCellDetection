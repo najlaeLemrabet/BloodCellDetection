{
 "cells": [
  {
   "cell_type": "code",
   "execution_count": 105,
   "id": "superior-polls",
   "metadata": {},
   "outputs": [],
   "source": [
    "import pandas as pd\n",
    "import matplotlib.pyplot as plt\n",
    "from PIL import Image\n",
    "import os\n",
    "import cv2\n",
    "## pytorch libraries\n",
    "import torch\n",
    "from torch.utils.data import DataLoader\n",
    "import torch.nn as nn\n",
    "import torchvision.transforms as transforms"
   ]
  },
  {
   "cell_type": "markdown",
   "id": "heavy-internship",
   "metadata": {},
   "source": [
    "## 0 . Fix Dataset"
   ]
  },
  {
   "cell_type": "code",
   "execution_count": null,
   "id": "stunning-coordinator",
   "metadata": {},
   "outputs": [],
   "source": [
    "images_names = os.listdir(\"new_archive/new_images\")\n",
    "for im in images_names:\n",
    "    print(im)"
   ]
  },
  {
   "cell_type": "code",
   "execution_count": null,
   "id": "determined-rachel",
   "metadata": {},
   "outputs": [],
   "source": [
    "import pandas as pd\n",
    "annotations = pd.read_csv(\"archive/annotations.csv\")\n",
    "new_annotations = pd.DataFrame(columns=[\"image\", \"xmin\", \"ymin\", \"xmax\", \"ymax\", \"label\"])\n",
    "images_names = os.listdir(\"archive/images\")\n",
    "os.mkdir(\"new_archive/new_images\")\n",
    "index = 0\n",
    "for im in images_names:\n",
    "    image = cv2.imread(os.path.join(\"archive/images\",im))\n",
    "    path = \"new_archive/new_images/\"+str(index)+\".png\"\n",
    "    cv2.imwrite(path, image)\n",
    "    image_ann = annotations[annotations[\"image\"] == im]\n",
    "    image_ann[\"image\"] = \"image-\" + str(index) + \".png\"\n",
    "    new_annotations = new_annotations.append(image_ann)\n",
    "    index += 1\n",
    "new_annotations.to_csv('new_archive/new_annotation.csv') "
   ]
  },
  {
   "cell_type": "code",
   "execution_count": null,
   "id": "alpine-venture",
   "metadata": {},
   "outputs": [],
   "source": [
    "img_file =  str(2)+\".png\"\n",
    "img_file_csv = \"image-\"+str(2)+\".png\"\n",
    "image_path = os.path.join(\"new_archive/new_images\",img_file)\n",
    "\n",
    "annotations_data = pd.read_csv(\"new_archive/new_annotation.csv\")\n",
    "image_boxes = annotations_data[annotations_data[\"image\"] == img_file_csv].drop(columns=[\"image\"]).to_numpy()\n",
    "im = cv2.imread(image_path)\n",
    "\n",
    "for i in image_boxes:\n",
    "    plt.plot([i[1],i[1],i[3],i[3],i[1]], [i[2],i[4],i[4],i[2],i[2]])\n",
    "plt.imshow(im)\n",
    "plt.show()"
   ]
  },
  {
   "cell_type": "markdown",
   "id": "nuclear-consistency",
   "metadata": {},
   "source": [
    "## 1. Build Costum data class"
   ]
  },
  {
   "cell_type": "code",
   "execution_count": 96,
   "id": "extensive-insulin",
   "metadata": {},
   "outputs": [],
   "source": [
    "class BloodCellDataset(torch.utils.data.Dataset):\n",
    "    def __init__(self, img_dir, csv_file, split, num_classes, num_bboxes):\n",
    "        self.annotations = pd.read_csv(csv_file)\n",
    "        self.dict_ = {\"rbc\":0, \"wbc\":1}\n",
    "        self.annotations['label'] = self.annotations.label.map(self.dict_)\n",
    "        self.img_dir = img_dir\n",
    "        self.S = split\n",
    "        self.C = num_classes\n",
    "        self.B = num_bboxes\n",
    "        \n",
    "    def __len__(self):\n",
    "        return len(os.listdir(\"new_archive/new_images\"))\n",
    "    \n",
    "    def __getitem__(self, index):\n",
    "        ## image_name as parameter\n",
    "        bboxes = []\n",
    "        image_name = str(index)+\".png\"\n",
    "        image_name_csv = \"image-\"+str(index)+\".png\"\n",
    "        \n",
    "        image = cv2.imread(os.path.join(\"new_archive/new_images\",image_name))\n",
    "        boxes = self.annotations[self.annotations[\"image\"] == image_name_csv].drop(columns=[\"image\"]).to_numpy()\n",
    "        for box in boxes:\n",
    "            xmin, ymin, xmax, ymax, class_label = float(box[1]), float(box[2]), float(box[3]), float(box[4]), box[5]\n",
    "            x, y = ((xmin + xmax)/2)/image.shape[1], ((ymin + ymax)/2)/image.shape[0]\n",
    "            height, width = (xmax - xmin)/image.shape[1], (ymax - ymin)/image.shape[0]\n",
    "            bboxes.append([class_label, x,y,width,height])\n",
    "        \n",
    "        img = Image.open(os.path.join(\"new_archive/new_images\",image_name))\n",
    "        bboxes = torch.Tensor([x for x in bboxes])\n",
    "        \n",
    "        new_transform = transforms.Compose([transforms.Resize((448, 448)), transforms.ToTensor()])\n",
    "        img = new_transform(img)\n",
    "        \n",
    "         ## label_matrix\n",
    "        label_matrix = torch.zeros((self.S, self.S, self.C + self.B * 5 ))\n",
    "        \n",
    "        for box in bboxes:\n",
    "            class_label, x, y, width, height = box.tolist()\n",
    "            i, j = int(self.S*y), int(self.S*x)\n",
    "            x_cell, y_cell = self.S * x - j, self.S * y - i  \n",
    "            width_cell, height_cell = (                                                                                                                \n",
    "                width * self.S,\n",
    "                height * self.S\n",
    "            )\n",
    "        \n",
    "            label_matrix[i,j,2] = 1\n",
    "            label_matrix[i,j,3:7] = torch.tensor([x_cell, y_cell, width_cell, height_cell])\n",
    "            label_matrix[i,j,int(class_label)] = 1\n",
    "        return img, label_matrix\n",
    "    \n",
    "    def __show_img_annotated__(self, index):\n",
    "        img_file = str(index)+\".png\"\n",
    "        img_file_csv =  \"image-\"+ str(index)+\".png\"\n",
    "        image_path = os.path.join(\"new_archive/new_images\",img_file)\n",
    "        image_boxes = self.annotations[self.annotations[\"image\"] == img_file_csv].drop(columns=[\"image\"]).to_numpy()\n",
    "        im = cv2.imread(image_path)\n",
    "        \n",
    "        for i in image_boxes:\n",
    "            plt.plot([i[1],i[1],i[3],i[3],i[1]], [i[2],i[4],i[4],i[2],i[2]])\n",
    "        plt.imshow(im)\n",
    "        plt.show()"
   ]
  },
  {
   "cell_type": "code",
   "execution_count": null,
   "id": "possible-married",
   "metadata": {},
   "outputs": [],
   "source": []
  },
  {
   "cell_type": "code",
   "execution_count": 97,
   "id": "certain-target",
   "metadata": {},
   "outputs": [],
   "source": [
    "bloodcelldataset = BloodCellDataset(\"new_archive/new_images\", \"new_archive/new_annotation.csv\", 7, 2, 1)"
   ]
  },
  {
   "cell_type": "code",
   "execution_count": 98,
   "id": "junior-childhood",
   "metadata": {},
   "outputs": [
    {
     "data": {
      "text/plain": [
       "(tensor([[[0.7961, 0.7961, 0.7961,  ..., 0.7294, 0.7333, 0.7373],\n",
       "          [0.7961, 0.7961, 0.7961,  ..., 0.7255, 0.7294, 0.7333],\n",
       "          [0.8000, 0.7961, 0.7922,  ..., 0.7137, 0.7216, 0.7255],\n",
       "          ...,\n",
       "          [0.7059, 0.7020, 0.6980,  ..., 0.7098, 0.7059, 0.7020],\n",
       "          [0.7098, 0.7098, 0.7098,  ..., 0.7059, 0.7020, 0.7020],\n",
       "          [0.7098, 0.7137, 0.7176,  ..., 0.7020, 0.7020, 0.7020]],\n",
       " \n",
       "         [[0.7137, 0.7216, 0.7373,  ..., 0.6235, 0.6275, 0.6314],\n",
       "          [0.7137, 0.7216, 0.7373,  ..., 0.6235, 0.6235, 0.6275],\n",
       "          [0.7137, 0.7216, 0.7373,  ..., 0.6235, 0.6196, 0.6196],\n",
       "          ...,\n",
       "          [0.4314, 0.4235, 0.4157,  ..., 0.8784, 0.8784, 0.8784],\n",
       "          [0.4353, 0.4353, 0.4314,  ..., 0.8784, 0.8784, 0.8784],\n",
       "          [0.4353, 0.4392, 0.4431,  ..., 0.8784, 0.8784, 0.8784]],\n",
       " \n",
       "         [[0.6588, 0.6667, 0.6824,  ..., 0.6549, 0.6588, 0.6627],\n",
       "          [0.6588, 0.6667, 0.6824,  ..., 0.6549, 0.6627, 0.6667],\n",
       "          [0.6627, 0.6706, 0.6863,  ..., 0.6588, 0.6706, 0.6745],\n",
       "          ...,\n",
       "          [0.5451, 0.5412, 0.5294,  ..., 0.7608, 0.7647, 0.7647],\n",
       "          [0.5451, 0.5451, 0.5451,  ..., 0.7569, 0.7608, 0.7647],\n",
       "          [0.5451, 0.5490, 0.5529,  ..., 0.7569, 0.7608, 0.7647]]]),\n",
       " tensor([[[1.0000e+00, 0.0000e+00, 1.0000e+00, 7.3409e-01, 4.8343e-01,\n",
       "           9.6686e-01, 1.4682e+00],\n",
       "          [0.0000e+00, 0.0000e+00, 0.0000e+00, 0.0000e+00, 0.0000e+00,\n",
       "           0.0000e+00, 0.0000e+00],\n",
       "          [0.0000e+00, 0.0000e+00, 0.0000e+00, 0.0000e+00, 0.0000e+00,\n",
       "           0.0000e+00, 0.0000e+00],\n",
       "          [0.0000e+00, 0.0000e+00, 0.0000e+00, 0.0000e+00, 0.0000e+00,\n",
       "           0.0000e+00, 0.0000e+00],\n",
       "          [0.0000e+00, 0.0000e+00, 0.0000e+00, 0.0000e+00, 0.0000e+00,\n",
       "           0.0000e+00, 0.0000e+00],\n",
       "          [1.0000e+00, 0.0000e+00, 1.0000e+00, 8.5754e-01, 6.9069e-01,\n",
       "           1.3814e+00, 1.4598e+00],\n",
       "          [0.0000e+00, 0.0000e+00, 0.0000e+00, 0.0000e+00, 0.0000e+00,\n",
       "           0.0000e+00, 0.0000e+00]],\n",
       " \n",
       "         [[0.0000e+00, 0.0000e+00, 0.0000e+00, 0.0000e+00, 0.0000e+00,\n",
       "           0.0000e+00, 0.0000e+00],\n",
       "          [1.0000e+00, 0.0000e+00, 1.0000e+00, 6.6179e-01, 6.4857e-01,\n",
       "           2.3245e+00, 1.2758e+00],\n",
       "          [0.0000e+00, 0.0000e+00, 0.0000e+00, 0.0000e+00, 0.0000e+00,\n",
       "           0.0000e+00, 0.0000e+00],\n",
       "          [1.0000e+00, 1.0000e+00, 1.0000e+00, 7.3719e-01, 6.7349e-01,\n",
       "           3.2193e+00, 2.7926e+00],\n",
       "          [0.0000e+00, 0.0000e+00, 0.0000e+00, 0.0000e+00, 0.0000e+00,\n",
       "           0.0000e+00, 0.0000e+00],\n",
       "          [0.0000e+00, 0.0000e+00, 0.0000e+00, 0.0000e+00, 0.0000e+00,\n",
       "           0.0000e+00, 0.0000e+00],\n",
       "          [0.0000e+00, 0.0000e+00, 0.0000e+00, 0.0000e+00, 0.0000e+00,\n",
       "           0.0000e+00, 0.0000e+00]],\n",
       " \n",
       "         [[1.0000e+00, 0.0000e+00, 1.0000e+00, 6.9096e-01, 1.9538e-01,\n",
       "           2.3477e+00, 1.3819e+00],\n",
       "          [0.0000e+00, 0.0000e+00, 0.0000e+00, 0.0000e+00, 0.0000e+00,\n",
       "           0.0000e+00, 0.0000e+00],\n",
       "          [0.0000e+00, 0.0000e+00, 0.0000e+00, 0.0000e+00, 0.0000e+00,\n",
       "           0.0000e+00, 0.0000e+00],\n",
       "          [0.0000e+00, 0.0000e+00, 0.0000e+00, 0.0000e+00, 0.0000e+00,\n",
       "           0.0000e+00, 0.0000e+00],\n",
       "          [0.0000e+00, 0.0000e+00, 0.0000e+00, 0.0000e+00, 0.0000e+00,\n",
       "           0.0000e+00, 0.0000e+00],\n",
       "          [0.0000e+00, 0.0000e+00, 0.0000e+00, 0.0000e+00, 0.0000e+00,\n",
       "           0.0000e+00, 0.0000e+00],\n",
       "          [1.0000e+00, 0.0000e+00, 1.0000e+00, 7.2344e-01, 3.6782e-01,\n",
       "           1.6059e+00, 5.5313e-01]],\n",
       " \n",
       "         [[0.0000e+00, 0.0000e+00, 0.0000e+00, 0.0000e+00, 0.0000e+00,\n",
       "           0.0000e+00, 0.0000e+00],\n",
       "          [0.0000e+00, 0.0000e+00, 0.0000e+00, 0.0000e+00, 0.0000e+00,\n",
       "           0.0000e+00, 0.0000e+00],\n",
       "          [1.0000e+00, 0.0000e+00, 1.0000e+00, 4.2139e-01, 3.9600e-01,\n",
       "           1.4841e+00, 1.3330e+00],\n",
       "          [0.0000e+00, 0.0000e+00, 0.0000e+00, 0.0000e+00, 0.0000e+00,\n",
       "           0.0000e+00, 0.0000e+00],\n",
       "          [1.0000e+00, 0.0000e+00, 1.0000e+00, 5.1842e-01, 7.6720e-01,\n",
       "           1.5745e+00, 1.3218e+00],\n",
       "          [1.0000e+00, 0.0000e+00, 1.0000e+00, 9.7014e-01, 3.9484e-01,\n",
       "           1.5729e+00, 1.6126e+00],\n",
       "          [0.0000e+00, 0.0000e+00, 0.0000e+00, 0.0000e+00, 0.0000e+00,\n",
       "           0.0000e+00, 0.0000e+00]],\n",
       " \n",
       "         [[0.0000e+00, 0.0000e+00, 0.0000e+00, 0.0000e+00, 0.0000e+00,\n",
       "           0.0000e+00, 0.0000e+00],\n",
       "          [1.0000e+00, 0.0000e+00, 1.0000e+00, 1.5247e-03, 5.4372e-01,\n",
       "           1.3713e+00, 1.4638e+00],\n",
       "          [0.0000e+00, 0.0000e+00, 0.0000e+00, 0.0000e+00, 0.0000e+00,\n",
       "           0.0000e+00, 0.0000e+00],\n",
       "          [0.0000e+00, 0.0000e+00, 0.0000e+00, 0.0000e+00, 0.0000e+00,\n",
       "           0.0000e+00, 0.0000e+00],\n",
       "          [0.0000e+00, 0.0000e+00, 0.0000e+00, 0.0000e+00, 0.0000e+00,\n",
       "           0.0000e+00, 0.0000e+00],\n",
       "          [1.0000e+00, 0.0000e+00, 1.0000e+00, 5.3154e-01, 8.8963e-01,\n",
       "           1.4335e+00, 1.4964e+00],\n",
       "          [1.0000e+00, 0.0000e+00, 1.0000e+00, 7.9843e-01, 1.6617e-01,\n",
       "           1.6247e+00, 4.0314e-01]],\n",
       " \n",
       "         [[0.0000e+00, 0.0000e+00, 0.0000e+00, 0.0000e+00, 0.0000e+00,\n",
       "           0.0000e+00, 0.0000e+00],\n",
       "          [0.0000e+00, 0.0000e+00, 0.0000e+00, 0.0000e+00, 0.0000e+00,\n",
       "           0.0000e+00, 0.0000e+00],\n",
       "          [1.0000e+00, 0.0000e+00, 1.0000e+00, 6.9483e-01, 2.4997e-01,\n",
       "           1.3710e+00, 1.3956e+00],\n",
       "          [0.0000e+00, 0.0000e+00, 0.0000e+00, 0.0000e+00, 0.0000e+00,\n",
       "           0.0000e+00, 0.0000e+00],\n",
       "          [1.0000e+00, 0.0000e+00, 1.0000e+00, 1.0313e-01, 3.0111e-01,\n",
       "           1.3681e+00, 1.2878e+00],\n",
       "          [0.0000e+00, 0.0000e+00, 0.0000e+00, 0.0000e+00, 0.0000e+00,\n",
       "           0.0000e+00, 0.0000e+00],\n",
       "          [1.0000e+00, 0.0000e+00, 1.0000e+00, 5.8960e-01, 8.9555e-01,\n",
       "           1.5546e+00, 8.2009e-01]],\n",
       " \n",
       "         [[0.0000e+00, 0.0000e+00, 0.0000e+00, 0.0000e+00, 0.0000e+00,\n",
       "           0.0000e+00, 0.0000e+00],\n",
       "          [1.0000e+00, 0.0000e+00, 1.0000e+00, 1.2125e-01, 9.4115e-02,\n",
       "           1.6097e+00, 1.5066e+00],\n",
       "          [1.0000e+00, 0.0000e+00, 1.0000e+00, 9.2935e-01, 5.0156e-01,\n",
       "           9.9688e-01, 1.7143e+00],\n",
       "          [0.0000e+00, 0.0000e+00, 0.0000e+00, 0.0000e+00, 0.0000e+00,\n",
       "           0.0000e+00, 0.0000e+00],\n",
       "          [0.0000e+00, 0.0000e+00, 0.0000e+00, 0.0000e+00, 0.0000e+00,\n",
       "           0.0000e+00, 0.0000e+00],\n",
       "          [1.0000e+00, 0.0000e+00, 1.0000e+00, 3.1522e-01, 3.5718e-01,\n",
       "           1.2666e+00, 1.5763e+00],\n",
       "          [0.0000e+00, 0.0000e+00, 0.0000e+00, 0.0000e+00, 0.0000e+00,\n",
       "           0.0000e+00, 0.0000e+00]]]))"
      ]
     },
     "execution_count": 98,
     "metadata": {},
     "output_type": "execute_result"
    }
   ],
   "source": [
    "bloodcelldataset.__getitem__(0)"
   ]
  },
  {
   "cell_type": "code",
   "execution_count": 99,
   "id": "consecutive-gilbert",
   "metadata": {},
   "outputs": [],
   "source": [
    "# bloodcelldataset.__show_img_annotated__(0)"
   ]
  },
  {
   "cell_type": "code",
   "execution_count": 100,
   "id": "about-worker",
   "metadata": {},
   "outputs": [],
   "source": [
    "train_loader = DataLoader(\n",
    "    dataset=bloodcelldataset,\n",
    "    batch_size=32,\n",
    "    shuffle=True\n",
    ")"
   ]
  },
  {
   "cell_type": "code",
   "execution_count": 101,
   "id": "irish-mortality",
   "metadata": {},
   "outputs": [
    {
     "data": {
      "text/plain": [
       "<torch.utils.data.dataloader.DataLoader at 0x1850791dd60>"
      ]
     },
     "execution_count": 101,
     "metadata": {},
     "output_type": "execute_result"
    }
   ],
   "source": [
    "train_loader"
   ]
  },
  {
   "cell_type": "code",
   "execution_count": 104,
   "id": "hispanic-slovak",
   "metadata": {},
   "outputs": [
    {
     "name": "stdout",
     "output_type": "stream",
     "text": [
      "torch.Size([32, 3, 448, 448])\n",
      "torch.Size([32, 7, 7, 7])\n",
      "++++++++++++++++++++++++++++++\n",
      "torch.Size([32, 3, 448, 448])\n",
      "torch.Size([32, 7, 7, 7])\n",
      "++++++++++++++++++++++++++++++\n",
      "torch.Size([32, 3, 448, 448])\n",
      "torch.Size([32, 7, 7, 7])\n",
      "++++++++++++++++++++++++++++++\n",
      "torch.Size([4, 3, 448, 448])\n",
      "torch.Size([4, 7, 7, 7])\n",
      "++++++++++++++++++++++++++++++\n"
     ]
    }
   ],
   "source": [
    "for idx, (X, Y) in enumerate(train_loader):\n",
    "    print(X.shape)\n",
    "    print(Y.shape)\n",
    "    print(\"++++++++++++++++++++++++++++++\")"
   ]
  },
  {
   "cell_type": "code",
   "execution_count": null,
   "id": "conventional-plasma",
   "metadata": {},
   "outputs": [],
   "source": [
    "# bloodcelldataset.__show_img_annotated__(5)"
   ]
  },
  {
   "cell_type": "code",
   "execution_count": null,
   "id": "impaired-conversion",
   "metadata": {},
   "outputs": [],
   "source": [
    "# img, matrix = bloodcelldataset.__getitem__(\"image-100.png\")"
   ]
  },
  {
   "cell_type": "code",
   "execution_count": null,
   "id": "fewer-estimate",
   "metadata": {},
   "outputs": [],
   "source": [
    "112/4"
   ]
  },
  {
   "cell_type": "markdown",
   "id": "interpreted-right",
   "metadata": {},
   "source": [
    "## 2 . Build Neural network"
   ]
  },
  {
   "cell_type": "code",
   "execution_count": null,
   "id": "rising-moldova",
   "metadata": {},
   "outputs": [],
   "source": [
    "Model_architecture = [\n",
    "    (7, 64, 2, 3),\n",
    "    \"M\",\n",
    "    (3, 192, 1, 1),\n",
    "    \"M\",\n",
    "    (1, 128, 1, 0),\n",
    "    (3, 256, 1, 1),\n",
    "    (1, 256, 1, 0),\n",
    "    (3, 512, 1, 1),\n",
    "    \"M\",\n",
    "    [(1, 256, 1, 0), (3, 512, 1, 1), 4],\n",
    "    (1, 512, 1, 0),\n",
    "    (3, 1024, 1, 1),\n",
    "    \"M\",\n",
    "    [(1, 512, 1, 0), (3, 1024, 1, 1), 2],\n",
    "    (3, 1024, 1, 1),\n",
    "    (3, 1024, 2, 1),\n",
    "    (3, 1024, 1, 1),\n",
    "    (3, 1024, 1, 1)\n",
    "]"
   ]
  },
  {
   "cell_type": "code",
   "execution_count": null,
   "id": "architectural-magazine",
   "metadata": {},
   "outputs": [],
   "source": [
    "class Block(nn.Module):\n",
    "    def __init__(self, in_channels, out_channels, kernel_size, stride, padding):\n",
    "        super(Block, self).__init__()\n",
    "        self.conv = nn.Conv2d(in_channels, out_channels, kernel_size=kernel_size, stride=stride, padding=padding)\n",
    "        self.Leakyrelu = nn.LeakyReLU(0.001)\n",
    "    def forward(self, x):\n",
    "        return self.Leakyrelu(self.conv(x))"
   ]
  },
  {
   "cell_type": "code",
   "execution_count": null,
   "id": "compound-message",
   "metadata": {},
   "outputs": [],
   "source": [
    "# b = Block(1, 64, 3, 1, 1)\n",
    "# b(torch.randn(1,28,28).view(-1, 1, 28,28)).shape"
   ]
  },
  {
   "cell_type": "code",
   "execution_count": null,
   "id": "logical-surveillance",
   "metadata": {},
   "outputs": [],
   "source": [
    "class Net(nn.Module):\n",
    "    def __init__(self, network_architecture, in_channels):\n",
    "        super(Net, self).__init__()\n",
    "        self.network_architecture = network_architecture\n",
    "        self.in_channels = in_channels\n",
    "        self.convLayers = self.convLayers_()\n",
    "        self.fcLayers = self.fcLayers_()\n",
    "        \n",
    "    def convLayers_(self):\n",
    "        layers = []\n",
    "        for i in self.network_architecture:\n",
    "            if type(i) == str:\n",
    "                layers += [nn.MaxPool2d(2, stride=2)]\n",
    "                \n",
    "            elif type(i) == tuple:\n",
    "                layers += [Block(self.in_channels, out_channels=i[1], kernel_size=i[0], stride=i[2], padding=i[3])]\n",
    "                self.in_channels = i[1]\n",
    "                \n",
    "            elif type(i) == list:\n",
    "                for _ in range(i[-1]):\n",
    "                    layers += [Block(self.in_channels, out_channels=i[0][1], kernel_size=i[0][0], stride=i[0][2], padding=i[0][3])]\n",
    "                    layers += [Block(in_channels=i[0][1], out_channels=i[1][1], kernel_size=i[1][0], stride=i[1][2], padding=i[1][3])]\n",
    "                    self.in_channels = i[1][1]\n",
    "        return nn.Sequential(*layers)\n",
    "                    \n",
    "    def fcLayers_(self):\n",
    "                return nn.Sequential(\n",
    "                    nn.Linear(7*7*1024, 4096),\n",
    "                    nn.LeakyReLU(0.001),\n",
    "                    nn.Linear(4096, 30*7*7)\n",
    "                )\n",
    "        \n",
    "    def forward(self, x):\n",
    "        x = self.convLayers(x)\n",
    "        x = x.view(-1)\n",
    "        x = self.fcLayers(x)\n",
    "        return x"
   ]
  },
  {
   "cell_type": "code",
   "execution_count": null,
   "id": "massive-creativity",
   "metadata": {},
   "outputs": [],
   "source": [
    "if torch.cuda.is_available():\n",
    "    device = \"cuda\"\n",
    "else:\n",
    "    device = \"cpu\""
   ]
  },
  {
   "cell_type": "code",
   "execution_count": null,
   "id": "educational-cheat",
   "metadata": {},
   "outputs": [],
   "source": [
    "net = Net(network_architecture=Model_architecture, in_channels=3).to(device)\n",
    "print(\"hey\")"
   ]
  },
  {
   "cell_type": "code",
   "execution_count": null,
   "id": "aerial-badge",
   "metadata": {},
   "outputs": [],
   "source": [
    "random_image = torch.randn(3, 448, 448).view(-1, 3, 448, 448).to(device)"
   ]
  },
  {
   "cell_type": "code",
   "execution_count": null,
   "id": "mediterranean-ground",
   "metadata": {},
   "outputs": [],
   "source": [
    "o = net(random_image)"
   ]
  },
  {
   "cell_type": "code",
   "execution_count": null,
   "id": "african-flexibility",
   "metadata": {},
   "outputs": [],
   "source": [
    "o.shape"
   ]
  },
  {
   "cell_type": "code",
   "execution_count": null,
   "id": "typical-eagle",
   "metadata": {},
   "outputs": [],
   "source": [
    "30*7*7"
   ]
  },
  {
   "cell_type": "markdown",
   "id": "announced-butterfly",
   "metadata": {},
   "source": [
    "## Utils Functions"
   ]
  },
  {
   "cell_type": "code",
   "execution_count": null,
   "id": "impossible-irrigation",
   "metadata": {},
   "outputs": [],
   "source": [
    "def Intersection_over_union(boxes_pred, boxes_gt):\n",
    "    \n",
    "        box1_x1 = boxes_pred[...,0:1] - boxes_pred[...,2:3] / 2\n",
    "        box1_y1 = boxes_pred[...,1:2] - boxes_pred[...,3:4] / 2\n",
    "        box1_x2 = boxes_pred[...,0:1] + boxes_pred[...,2:3] / 2\n",
    "        box1_y2 = boxes_pred[...,1:2] + boxes_pred[...,3:4] / 2\n",
    "\n",
    "        box2_x1 = boxes_gt[...,0:1] - boxes_gt[...,2:3] / 2\n",
    "        box2_y1 = boxes_gt[...,1:2] - boxes_gt[...,3:4] / 2\n",
    "        box2_x2 = boxes_gt[...,0:1] + boxes_gt[...,2:3] / 2\n",
    "        box2_y2 = boxes_gt[...,1:2] + boxes_gt[...,3:4] / 2\n",
    "        \n",
    "        x1 = torch.max(box1_x1, box2_x1)\n",
    "        y1 = torch.max(box1_y1, box2_y1)\n",
    "        x2 = torch.min(box1_x2, box2_x2)\n",
    "        y2 = torch.min(box1_y2, box2_y2)\n",
    "        \n",
    "        intersection = (x2 - x1).clamp(0) * (y2 - y1).clamp(0)\n",
    "    \n",
    "        box1_area = abs((box1_x2 - box1_x1) * (box1_y2 - box1_y1)) \n",
    "        box2_area = abs((box2_x2 - box2_x1) * (box2_y2 - box2_y1)) \n",
    "\n",
    "        return intersection / (box1_area + box2_area - intersection + 1e-6)"
   ]
  },
  {
   "cell_type": "code",
   "execution_count": null,
   "id": "endless-cocktail",
   "metadata": {},
   "outputs": [],
   "source": [
    "torch.max(torch.tensor([[1],[2],[3]]),torch.tensor([[4],[0],[1]]))"
   ]
  },
  {
   "cell_type": "code",
   "execution_count": null,
   "id": "established-hotel",
   "metadata": {},
   "outputs": [],
   "source": [
    "def non_max_supression(bboxes,iou_threshold,threshold):\n",
    "    \n",
    "    # predictions = [[class_id, probability, x1,y1,x2,y2],[],...]\n",
    "    assert type(bboxes) == list\n",
    "    \n",
    "    bboxes = [box for box in bboxes if box[1] > threshold]\n",
    "    bboxes = sorted(bboxes, key=lambda x: x[1], reverse=True)\n",
    "    bboxes_after_nms = []\n",
    "    \n",
    "    while bboxes:\n",
    "        chosen_bbox = bboxes.pop(0)\n",
    "        \n",
    "        bboxes = [\n",
    "                    box \n",
    "                    for box in bboxes\n",
    "                    if box[0] != chosen_bbox[0]\n",
    "                    or intersection_over_union(\n",
    "                    torch.tensor(chosen_bbox[2:]),\n",
    "                    torch.tensor(box[2:]),\n",
    "                    box_format = box_format\n",
    "                    ) < iou_threshold\n",
    "                ]\n",
    "        bboxes_after_nms.append(chosen_bbox)\n",
    "    return bboxes_after_nms"
   ]
  },
  {
   "cell_type": "code",
   "execution_count": null,
   "id": "round-cancer",
   "metadata": {},
   "outputs": [],
   "source": [
    "class YoloLoss(nn.Module):\n",
    "    def __init__(self, S=7, B=1, C=2):\n",
    "        super(YoloLoss, self).__init__()\n",
    "        self.mse = nn.MSELoss(reduction=\"sum\")\n",
    "        self.S = S\n",
    "        self.B = B\n",
    "        self.C = C\n",
    "\n",
    "        # These are from Yolo paper, signifying how much we should\n",
    "        # pay loss for no object (noobj) and the box coordinates (coord)\n",
    "        self.lambda_noobj = 0.5\n",
    "        self.lambda_coord = 5\n",
    "\n",
    "    def forward(self, predictions, target):\n",
    "        # predictions are shaped (BATCH_SIZE, S*S(C+B*5) when inputted\n",
    "        predictions = predictions.reshape(-1, self.S, self.S, self.C + self.B * 5)\n",
    "\n",
    "        # Calculate IoU for the two predicted bounding boxes with target bbox\n",
    "        iou_b = intersection_over_union(predictions[..., 3:7], target[..., 3:7])\n",
    "\n",
    "        # Take the box with highest IoU out of the two prediction\n",
    "        # Note that bestbox will be indices of 0, 1 for which bbox was best\n",
    "        exists_box = target[..., 2].unsqueeze(3)  # in paper this is Iobj_i\n",
    "\n",
    "        # ======================== #\n",
    "        #   FOR BOX COORDINATES    #\n",
    "        # ======================== #\n",
    "\n",
    "        # Set boxes with no object in them to 0. We only take out one of the two \n",
    "        # predictions, which is the one with highest Iou calculated previously.\n",
    "        box_predictions = exists_box * predictions[..., 3:7]\n",
    "\n",
    "        box_targets = exists_box * target[..., 3:7]\n",
    "\n",
    "        # Take sqrt of width, height of boxes to ensure that\n",
    "        box_predictions[..., 2:4] = torch.sign(box_predictions[..., 2:4]) * torch.sqrt(\n",
    "            torch.abs(box_predictions[..., 2:4] + 1e-6)\n",
    "        )\n",
    "        box_targets[..., 2:4] = torch.sqrt(box_targets[..., 2:4])\n",
    "\n",
    "        box_loss = self.mse(\n",
    "            torch.flatten(box_predictions, end_dim=-2),\n",
    "            torch.flatten(box_targets, end_dim=-2),\n",
    "        )\n",
    "        # ==================== #\n",
    "        #   FOR OBJECT LOSS    #\n",
    "        # ==================== #\n",
    "        # pred_box is the confidence score for the bbox with highest IoU\n",
    "        pred_box = predictions[..., 3:7]\n",
    "\n",
    "        object_loss = self.mse(\n",
    "            torch.flatten(exists_box * pred_box),\n",
    "            torch.flatten(exists_box * target[..., 3:7]),\n",
    "        )\n",
    "        # ======================= #\n",
    "        #   FOR NO OBJECT LOSS    #\n",
    "        # ======================= #\n",
    "        no_object_loss = self.mse(\n",
    "            torch.flatten((1 - exists_box) * predictions[..., 3:7], start_dim=1),\n",
    "            torch.flatten((1 - exists_box) * target[..., 3:7], start_dim=1),\n",
    "        )\n",
    "        # ================== #\n",
    "        #   FOR CLASS LOSS   #\n",
    "        # ================== #\n",
    "        class_loss = self.mse(\n",
    "            torch.flatten(exists_box * predictions[..., :2], end_dim=-2,),\n",
    "            torch.flatten(exists_box * target[..., :2], end_dim=-2,),\n",
    "        )\n",
    "        loss = (\n",
    "            self.lambda_coord * box_loss  # first two rows in paper\n",
    "            + object_loss  # third row in paper\n",
    "            + self.lambda_noobj * no_object_loss  # forth row\n",
    "            + class_loss  # fifth row\n",
    "        )\n",
    "\n",
    "        return loss"
   ]
  },
  {
   "cell_type": "markdown",
   "id": "olive-crazy",
   "metadata": {},
   "source": [
    "## Training"
   ]
  },
  {
   "cell_type": "code",
   "execution_count": null,
   "id": "disabled-membrane",
   "metadata": {},
   "outputs": [],
   "source": [
    "import torchvision.transforms as transforms\n",
    "import torch.optim as optim\n",
    "import torchvision.transforms.functional as FT\n",
    "from tqdm import tqdm\n",
    "from torch.utils.data import DataLoader"
   ]
  },
  {
   "cell_type": "code",
   "execution_count": null,
   "id": "latter-health",
   "metadata": {},
   "outputs": [],
   "source": [
    "seed = 123\n",
    "torch.manual_seed(seed)\n",
    "\n",
    "# Hyperparameters etc. \n",
    "LEARNING_RATE = 2e-5\n",
    "DEVICE = \"cuda\" if torch.cuda.is_available else \"cpu\"\n",
    "BATCH_SIZE = 16 # 64 in original paper but I don't have that much vram, grad accum?\n",
    "WEIGHT_DECAY = 0\n",
    "EPOCHS = 1000\n",
    "LOAD_MODEL = False\n",
    "# LOAD_MODEL_FILE = \"overfit.pth.tar\"\n",
    "# IMG_DIR = \"data/images\"\n",
    "# LABEL_DIR = \"data/labels\""
   ]
  },
  {
   "cell_type": "code",
   "execution_count": null,
   "id": "eligible-princess",
   "metadata": {},
   "outputs": [],
   "source": [
    "class Compose(object):\n",
    "    def __init__(self, transforms):\n",
    "        self.transforms = transforms\n",
    "\n",
    "    def __call__(self, img, bboxes):\n",
    "        for t in self.transforms:\n",
    "            img, bboxes = t(img), bboxes\n",
    "\n",
    "        return img, bboxes\n",
    "\n",
    "\n",
    "transform = Compose([transforms.Resize((448, 448)), transforms.ToTensor(),])"
   ]
  },
  {
   "cell_type": "code",
   "execution_count": null,
   "id": "medical-working",
   "metadata": {},
   "outputs": [],
   "source": [
    "def train_fn(train_loader, model, optimizer, loss_fn):\n",
    "    print(\"in train function\")\n",
    "    mean_loss = []\n",
    "\n",
    "    for batch_idx, (x, y) in enumerate(train_loader):\n",
    "        print(\"loop\")\n",
    "        x, y = x.to(DEVICE), y.to(DEVICE)\n",
    "        out = model(x)\n",
    "        loss = loss_fn(out, y)\n",
    "        mean_loss.append(loss.item())\n",
    "        optimizer.zero_grad()\n",
    "        loss.backward()\n",
    "        optimizer.step()\n",
    "\n",
    "    print(f\"Mean loss was {sum(mean_loss)/len(mean_loss)}\")\n"
   ]
  },
  {
   "cell_type": "code",
   "execution_count": null,
   "id": "advised-auckland",
   "metadata": {},
   "outputs": [],
   "source": [
    "model = Net(network_architecture=Model_architecture, in_channels=3).to(device)\n",
    "optimizer = optim.Adam(model.parameters(), lr=LEARNING_RATE, weight_decay=WEIGHT_DECAY)\n",
    "loss_fn = YoloLoss()\n",
    "\n",
    "train_dataset = BloodCellDataset(\"archive/annotations.csv\", \"archive/images\", 7, 2, 1,transform=transform)\n",
    "\n",
    "train_loader = DataLoader(\n",
    "    dataset=train_dataset,\n",
    "    batch_size=BATCH_SIZE,\n",
    "    shuffle=True,\n",
    "    drop_last=True,\n",
    ")"
   ]
  },
  {
   "cell_type": "code",
   "execution_count": null,
   "id": "efficient-newton",
   "metadata": {},
   "outputs": [],
   "source": [
    "train_loader"
   ]
  },
  {
   "cell_type": "code",
   "execution_count": null,
   "id": "through-nerve",
   "metadata": {},
   "outputs": [],
   "source": [
    "for batch_idx, (x, y) in enumerate(train_loader):\n",
    "        print(\"loop\")"
   ]
  },
  {
   "cell_type": "code",
   "execution_count": null,
   "id": "animal-hughes",
   "metadata": {},
   "outputs": [],
   "source": [
    "for epoch in range(EPOCHS):\n",
    "    print(\"im here\")\n",
    "    train_fn(train_loader, model, optimizer, loss_fn)\n",
    "    break"
   ]
  },
  {
   "cell_type": "code",
   "execution_count": null,
   "id": "spectacular-january",
   "metadata": {},
   "outputs": [],
   "source": []
  }
 ],
 "metadata": {
  "kernelspec": {
   "display_name": "Python 3",
   "language": "python",
   "name": "python3"
  },
  "language_info": {
   "codemirror_mode": {
    "name": "ipython",
    "version": 3
   },
   "file_extension": ".py",
   "mimetype": "text/x-python",
   "name": "python",
   "nbconvert_exporter": "python",
   "pygments_lexer": "ipython3",
   "version": "3.8.8"
  }
 },
 "nbformat": 4,
 "nbformat_minor": 5
}
