{
 "cells": [
  {
   "cell_type": "code",
   "execution_count": null,
   "id": "superior-polls",
   "metadata": {},
   "outputs": [],
   "source": [
    "import os\n",
    "import cv2\n",
    "import numpy as np\n",
    "import pandas as pd\n",
    "from PIL import Image\n",
    "from tqdm import tqdm\n",
    "import matplotlib.patches as patches\n",
    "import matplotlib.pyplot as plt\n",
    "from collections import Counter\n",
    "import torch\n",
    "import torch.nn as nn\n",
    "import torch.optim as optim\n",
    "from torch.utils.data import DataLoader\n",
    "import torchvision.transforms as transforms\n",
    "import torchvision.transforms.functional as FT"
   ]
  },
  {
   "cell_type": "markdown",
   "id": "nuclear-consistency",
   "metadata": {},
   "source": [
    "## Step 1 : Build Costum data class"
   ]
  },
  {
   "cell_type": "code",
   "execution_count": null,
   "id": "extensive-insulin",
   "metadata": {},
   "outputs": [],
   "source": [
    "class BloodCellDataset(torch.utils.data.Dataset):\n",
    "    def __init__(self, img_dir, csv_file, split, num_classes, num_bboxes):\n",
    "        self.annotations = pd.read_csv(csv_file)\n",
    "        self.dict_ = {\"rbc\":0, \"wbc\":1}\n",
    "        self.annotations['label'] = self.annotations.label.map(self.dict_)\n",
    "        self.img_dir = img_dir\n",
    "        self.S = split\n",
    "        self.C = num_classes\n",
    "        self.B = num_bboxes\n",
    "        \n",
    "    def __len__(self):\n",
    "        return len(os.listdir(self.img_dir))\n",
    "    \n",
    "    def __getitem__(self, index):\n",
    "        ## image_name as parameter\n",
    "        bboxes = []\n",
    "        image_name = str(index)+\".png\"\n",
    "        image_name_csv = \"image-\"+str(index)+\".png\"\n",
    "        \n",
    "        image = cv2.imread(os.path.join(self.img_dir,image_name))\n",
    "        boxes = self.annotations[self.annotations[\"image\"] == image_name_csv].drop(columns=[\"image\"]).to_numpy()\n",
    "        for box in boxes:\n",
    "            xmin, ymin, xmax, ymax, class_label = float(box[1]), float(box[2]), float(box[3]), float(box[4]), box[5]\n",
    "            x, y = ((xmin + xmax)/2)/image.shape[0], ((ymin + ymax)/2)/image.shape[1]\n",
    "            width, height = abs(xmax - xmin)/image.shape[0], abs(ymax - ymin)/image.shape[1]\n",
    "            bboxes.append([class_label, x,y,width,height]) \n",
    "        img = Image.open(os.path.join(self.img_dir,image_name))\n",
    "        bboxes = torch.Tensor([x for x in bboxes])\n",
    "        \n",
    "        new_transform = transforms.Compose([transforms.Resize((224, 224)), transforms.ToTensor()])\n",
    "        img = new_transform(img)\n",
    "        \n",
    "         ## label_matrix\n",
    "        label_matrix = torch.zeros((self.S, self.S, self.C + self.B * 5 ))\n",
    "        \n",
    "        for box in bboxes:\n",
    "            class_label, x, y, width, height = box.tolist()\n",
    "            i, j = int(self.S*y), int(self.S*x)\n",
    "            x_cell, y_cell = self.S * x - j, self.S * y - i  \n",
    "            width_cell, height_cell = (                                                                                                                \n",
    "                width * self.S,\n",
    "                height * self.S\n",
    "            )\n",
    "                \n",
    "            if label_matrix[i, j, 2] == 0:\n",
    "                label_matrix[i,j,2] = 1\n",
    "                label_matrix[i,j,3:7] = torch.tensor([x_cell, y_cell, width_cell, height_cell])\n",
    "                label_matrix[i,j,int(class_label)] = 1\n",
    "        return img, label_matrix\n",
    "    \n",
    "    def __show_img_annotated__(self, index):\n",
    "        img_file = str(index)+\".png\"\n",
    "        img_file_csv =  \"image-\"+ str(index)+\".png\"\n",
    "        image_path = os.path.join(self.img_dir,img_file)\n",
    "        image_boxes = self.annotations[self.annotations[\"image\"] == img_file_csv].drop(columns=[\"image\"]).to_numpy()\n",
    "        im = cv2.imread(image_path)\n",
    "        for i in image_boxes:\n",
    "            plt.plot([i[1],i[1],i[3],i[3],i[1]], [i[2],i[4],i[4],i[2],i[2]])\n",
    "        plt.imshow(im)\n",
    "        plt.show()\n",
    "        new_transform = transforms.Compose([transforms.ToPILImage(),transforms.Resize((112, 112))])\n",
    "        im = new_transform(im)"
   ]
  },
  {
   "cell_type": "code",
   "execution_count": null,
   "id": "flying-playing",
   "metadata": {},
   "outputs": [],
   "source": [
    "blood_cell_dataset =  BloodCellDataset(\"dataset/images\", \"dataset/annotation.csv\", 7, 2, 1)"
   ]
  },
  {
   "cell_type": "code",
   "execution_count": null,
   "id": "global-poultry",
   "metadata": {},
   "outputs": [],
   "source": [
    "blood_cell_dataset.__show_img_annotated__(0)"
   ]
  },
  {
   "cell_type": "markdown",
   "id": "announced-butterfly",
   "metadata": {},
   "source": [
    "## Step 3 : Utils Functions"
   ]
  },
  {
   "cell_type": "code",
   "execution_count": null,
   "id": "pleased-diversity",
   "metadata": {},
   "outputs": [],
   "source": [
    "class YoloLoss(nn.Module):\n",
    "    def __init__(self, S=7, B=1, C=2):\n",
    "        super(YoloLoss, self).__init__()\n",
    "        self.mse = nn.MSELoss(reduction=\"sum\")\n",
    "        self.S = S\n",
    "        self.B = B\n",
    "        self.C = C\n",
    "        self.lambda_noobj = 0.5\n",
    "        self.lambda_coord = 5\n",
    "\n",
    "    def forward(self, predictions, target):\n",
    "        predictions = predictions.reshape(-1, self.S, self.S, self.C + self.B * 5)\n",
    "        exists_box = target[..., 2].unsqueeze(3)\n",
    "        \n",
    "        # box coordinates loss\n",
    "        box_predictions = exists_box * predictions[..., 3:7]\n",
    "        box_targets = exists_box * target[..., 3:7]\n",
    "        box_predictions[..., 2:4] = torch.sign(box_predictions[..., 2:4]) * torch.sqrt(torch.abs(box_predictions[..., 2:4] + 1e-6))\n",
    "        box_targets[..., 2:4] = torch.sqrt(box_targets[..., 2:4])\n",
    "        box_loss = self.mse(torch.flatten(box_predictions, end_dim=-2),torch.flatten(box_targets, end_dim=-2))\n",
    "        \n",
    "        # objects loss\n",
    "        pred_box = predictions[..., 2:3]\n",
    "        object_loss = self.mse(torch.flatten(exists_box * pred_box),torch.flatten(exists_box * target[..., 2:3]))\n",
    "        \n",
    "        # noobj loss\n",
    "        no_object_loss = self.mse(torch.flatten((1 - exists_box) * predictions[..., 2:3], start_dim=1),torch.flatten((1 - exists_box) * target[..., 2:3], start_dim=1),)\n",
    "        \n",
    "        # class loss\n",
    "        class_loss = self.mse(torch.flatten(exists_box * predictions[..., :2], end_dim=-2,),torch.flatten(exists_box * target[..., :2], end_dim=-2,),)\n",
    "        \n",
    "        # overall loss\n",
    "        loss = (\n",
    "            self.lambda_coord * box_loss \n",
    "            + object_loss  \n",
    "            + self.lambda_noobj * no_object_loss \n",
    "            + class_loss \n",
    "        )\n",
    "        return loss"
   ]
  },
  {
   "cell_type": "markdown",
   "id": "instrumental-register",
   "metadata": {},
   "source": [
    "## Build Network"
   ]
  },
  {
   "cell_type": "code",
   "execution_count": null,
   "id": "reasonable-eating",
   "metadata": {},
   "outputs": [],
   "source": [
    "Model_architecture = [\n",
    "    (7, 64, 2, 3),\n",
    "    \"M\",\n",
    "    (3, 192, 1, 1),\n",
    "    \"M\",\n",
    "    (1, 128, 1, 0),\n",
    "    (3, 256, 1, 1),\n",
    "    (1, 256, 1, 0),\n",
    "    (3, 512, 1, 1),\n",
    "    \"M\",\n",
    "    [(1, 256, 1, 0), (3, 512, 1, 1), 4],\n",
    "    (1, 512, 1, 0),\n",
    "    (3, 512, 1, 1),\n",
    "    \"M\",\n",
    "    (3, 1024, 1, 1),\n",
    "    (3, 1024, 1, 1)\n",
    "]"
   ]
  },
  {
   "cell_type": "code",
   "execution_count": null,
   "id": "civilian-combat",
   "metadata": {},
   "outputs": [],
   "source": [
    "class Block(nn.Module):\n",
    "    def __init__(self, in_channels, out_channels, kernel_size, stride, padding):\n",
    "        super(Block, self).__init__()\n",
    "        self.conv = nn.Conv2d(in_channels, out_channels, kernel_size=kernel_size, stride=stride, padding=padding)\n",
    "        self.batchnorm = nn.BatchNorm2d(out_channels)\n",
    "        self.Leakyrelu = nn.LeakyReLU(0.001)\n",
    "    def forward(self, x):\n",
    "        return self.Leakyrelu(self.batchnorm(self.conv(x)))"
   ]
  },
  {
   "cell_type": "code",
   "execution_count": null,
   "id": "blind-encyclopedia",
   "metadata": {},
   "outputs": [],
   "source": [
    "class Net(nn.Module):\n",
    "    def __init__(self, network_architecture, in_channels):\n",
    "        super(Net, self).__init__()\n",
    "        self.network_architecture = network_architecture\n",
    "        self.in_channels = in_channels\n",
    "        self.convLayers = self.convLayers_()\n",
    "        \n",
    "        self.fc1 = nn.Linear(7*7*1024, 1024)\n",
    "        self.leakyrelu = nn.LeakyReLU(0.001)\n",
    "        self.fc2 = nn.Linear(1024, 7*7*7)\n",
    "        \n",
    "    def convLayers_(self):\n",
    "        layers = []\n",
    "        for i in self.network_architecture:\n",
    "            if type(i) == str:\n",
    "                layers += [nn.MaxPool2d(2, stride=2)]\n",
    "                \n",
    "            elif type(i) == tuple:\n",
    "                layers += [Block(self.in_channels, out_channels=i[1], kernel_size=i[0], stride=i[2], padding=i[3])]\n",
    "                self.in_channels = i[1]\n",
    "                \n",
    "            elif type(i) == list:\n",
    "                for _ in range(i[-1]):\n",
    "                    layers += [Block(self.in_channels, out_channels=i[0][1], kernel_size=i[0][0], stride=i[0][2], padding=i[0][3])]\n",
    "                    layers += [Block(in_channels=i[0][1], out_channels=i[1][1], kernel_size=i[1][0], stride=i[1][2], padding=i[1][3])]\n",
    "                    self.in_channels = i[1][1]\n",
    "        return nn.Sequential(*layers)\n",
    "\n",
    "    \n",
    "        \n",
    "    def forward(self, x):\n",
    "        x = self.convLayers(x)\n",
    "        x = x.view(-1, 7*7*1024)\n",
    "        x = self.fc1(x)\n",
    "        x = self.leakyrelu(x)\n",
    "        x = self.fc2(x) \n",
    "        return x"
   ]
  },
  {
   "cell_type": "code",
   "execution_count": null,
   "id": "satisfactory-officer",
   "metadata": {},
   "outputs": [],
   "source": [
    "device = \"cuda\" if torch.cuda.is_available() else \"cpu\""
   ]
  },
  {
   "cell_type": "code",
   "execution_count": null,
   "id": "respected-cincinnati",
   "metadata": {},
   "outputs": [],
   "source": [
    "net = Net(network_architecture=Model_architecture, in_channels=3).to(device)"
   ]
  },
  {
   "cell_type": "markdown",
   "id": "impaired-liberty",
   "metadata": {},
   "source": [
    "## Training"
   ]
  },
  {
   "cell_type": "code",
   "execution_count": null,
   "id": "hispanic-heating",
   "metadata": {},
   "outputs": [],
   "source": [
    "IMG_SIZE = 224\n",
    "LEARNING_RATE = 2e-5\n",
    "BATCH_SIZE = 1 # 64 in original paper\n",
    "EPOCHS = 100"
   ]
  },
  {
   "cell_type": "code",
   "execution_count": null,
   "id": "saved-syria",
   "metadata": {},
   "outputs": [],
   "source": [
    "blood_cell_dataset =  BloodCellDataset(\"dataset/images\", \"dataset/annotation.csv\", 7, 2, 1)\n",
    "train_loader = DataLoader(\n",
    "    dataset=blood_cell_dataset,\n",
    "    batch_size=BATCH_SIZE,\n",
    "    shuffle=True\n",
    ")\n",
    "optimizer = optim.Adam(net.parameters(), lr=LEARNING_RATE)\n",
    "loss_fn = YoloLoss()"
   ]
  },
  {
   "cell_type": "code",
   "execution_count": null,
   "id": "satisfied-witch",
   "metadata": {
    "scrolled": true
   },
   "outputs": [],
   "source": [
    "for epoch in range(EPOCHS):  \n",
    "    print(\"[INFO] EPOCH \", epoch)\n",
    "    loop = tqdm(train_loader, leave=True)\n",
    "    mean_loss = []\n",
    "    for batch_idx, (x, y) in enumerate(loop):\n",
    "        x, y = x.to(device), y.to(device)\n",
    "        out = net(x)\n",
    "        loss = loss_fn(out, y)\n",
    "        mean_loss.append(loss.item())\n",
    "        net.zero_grad()\n",
    "        loss.backward()\n",
    "        optimizer.step()\n",
    "    print(f\"Mean loss was {sum(mean_loss)/len(mean_loss)}\")"
   ]
  }
 ],
 "metadata": {
  "kernelspec": {
   "display_name": "Python 3",
   "language": "python",
   "name": "python3"
  },
  "language_info": {
   "codemirror_mode": {
    "name": "ipython",
    "version": 3
   },
   "file_extension": ".py",
   "mimetype": "text/x-python",
   "name": "python",
   "nbconvert_exporter": "python",
   "pygments_lexer": "ipython3",
   "version": "3.8.8"
  }
 },
 "nbformat": 4,
 "nbformat_minor": 5
}
